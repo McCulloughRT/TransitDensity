{
 "cells": [
  {
   "cell_type": "markdown",
   "metadata": {},
   "source": [
    "# **Transit-Density Analysis**\n",
    "---\n",
    "## <p>Abstract:</p>\n",
    "Development sites where transit access is abundant are naturally suited to growing denser. In Portland many already have, but some may have been overlooked. These sites present an opportunity for higher density residential development. This study investigates if there are sites in Portland where transit is plentiful but housing density is still sparse. Data from the US Census informs an analysis of over 17,000 blocks, blocks are scored on transit access and DU/Acre, and results show a gradient of blocks with the highest potential for residential growth.\n",
    "<br /><br />\n",
    "\n",
    "## <p>Introduction:</p>\n",
    "Portland is well known for its public transit system, and for its urban growth boundary. Both conditions can symbiotically lead to a desirable increase in housing density, focused in areas served by the transit. Furthermore, transit planning can be used as a tool for directed growth of the city. By finding sites that are well served by transit, but which contain low housing density, an opportunity for future growth can be realized. This study does not attempt analyze the conditions that create this situation. Possible future analysis should include factors such as zoning, FAR of sites (inclusive of all use), and the effects of transit frequency. These studies will improve understanding of the conditions creating these sites, and draw closer focus to those with greatest potential.\n",
    "\n",
    "This report describes the methods used to analyze the data, the code created for display of the data is available from https://github.com/McCulloughRT/TransitDensity\n",
    "\n",
    "## <p>Methods:</p>\n",
    "The study pulled block level (100) data for the city of Portland, Oregon from the US Census Bureau's 2010 SF1 study, available as a CSV file at http://factfinder.census.gov. Utilized tables include Total Population and Total Households. Block geometry was obtained from the Census Bureau's TIGER/Line Geography ESRI ShapeFiles for the city of Portland, Oregon created in 2010, available at https://www.census.gov/geo/maps-data/data/tiger-line.html. Additionally, ESRI ShapeFiles representing public transit stops was obtained from TriMet at http://developer.trimet.org/gis/.\n",
    "\n",
    "All ShapeFiles were converted to GeoJSON format using QuantumGIS. Further processing was done in the Anaconda distribution of Python 2.7.11 and Node.js version 5.7.0. The code used appears below in this iPython Notebook.\n",
    "Each blocks unique ID was used to join data from the CSV onto the GeoJSON geometry. Then household density was calulated by dividing the number of housholds from the Census data by the land area of the block in acres, yeilding DU/Acre. After each new field calculation, summary statistics of the data were calculated to determine an appropriate color range for the map. The data was loaded into Node.js where it was compared against the transit stop points. For each transit stop a buffer radius was projected. The size of the radius was determined by the type of stop, with MAX stops receiving an 800m radius and bus / streetcare stops receiving a 400m radius. Each radius was then compared to each block polygon and checked for intersections. Where intersections occured, the area of intersect was calculated and incrementally added to a field on the block geometry. This total was then divded by the land area of the block to give a percentage of transit coverage for the block that favored blocks with multiple transit options and access to MAX transit. Finally, the transit score was divded by the housing density to give a measure which would increase with higher transit access and lower housing density.\n",
    "\n",
    "### Detailed Methods:"
   ]
  },
  {
   "cell_type": "code",
   "execution_count": 40,
   "metadata": {
    "collapsed": true
   },
   "outputs": [],
   "source": [
    "import unicodecsv\n",
    "import json\n",
    "\n",
    "import numpy as np\n",
    "import matplotlib.pyplot as plt\n",
    "%matplotlib inline"
   ]
  },
  {
   "cell_type": "markdown",
   "metadata": {},
   "source": [
    "## Define some functions for file I/O"
   ]
  },
  {
   "cell_type": "code",
   "execution_count": 41,
   "metadata": {
    "collapsed": true
   },
   "outputs": [],
   "source": [
    "def ReadCSV(file):\n",
    "    with open(file,'rb') as f:\n",
    "        reader = unicodecsv.DictReader(f)\n",
    "        return list(reader)\n",
    "\n",
    "def ReadJSON(file):\n",
    "    with open(file) as f:\n",
    "        data = json.load(f)\n",
    "        return data"
   ]
  },
  {
   "cell_type": "markdown",
   "metadata": {},
   "source": [
    "## Read in the data and get familiar with it"
   ]
  },
  {
   "cell_type": "code",
   "execution_count": 42,
   "metadata": {
    "collapsed": true
   },
   "outputs": [],
   "source": [
    "population_data = ReadCSV('mult_block_house.csv')"
   ]
  },
  {
   "cell_type": "code",
   "execution_count": 43,
   "metadata": {
    "collapsed": true
   },
   "outputs": [],
   "source": [
    "block_geo = ReadJSON('pdx.json')"
   ]
  },
  {
   "cell_type": "code",
   "execution_count": 44,
   "metadata": {
    "collapsed": false
   },
   "outputs": [
    {
     "data": {
      "text/plain": [
       "{u'Id': u'1000000US410050201001050', u'Total': u'5'}"
      ]
     },
     "execution_count": 44,
     "metadata": {},
     "output_type": "execute_result"
    }
   ],
   "source": [
    "population_data[0]"
   ]
  },
  {
   "cell_type": "code",
   "execution_count": 45,
   "metadata": {
    "collapsed": false
   },
   "outputs": [
    {
     "data": {
      "text/plain": [
       "{u'geometry': {u'coordinates': [[[-122.761903, 45.59234],\n",
       "    [-122.762954, 45.593426],\n",
       "    [-122.762072, 45.593783],\n",
       "    [-122.761063, 45.59274],\n",
       "    [-122.761903, 45.59234]]],\n",
       "  u'type': u'Polygon'},\n",
       " u'properties': {u'ALAND10': 11330.0,\n",
       "  u'AWATER10': 0.0,\n",
       "  u'BLOCKCE10': u'2019',\n",
       "  u'COUNTYFP10': u'051',\n",
       "  u'FUNCSTAT10': u'S',\n",
       "  u'GEOID10': u'410510042002019',\n",
       "  u'INTPTLAT10': u'+45.5930710',\n",
       "  u'INTPTLON10': u'-122.7620009',\n",
       "  u'MTFCC10': u'G5040',\n",
       "  u'NAME10': u'Block 2019',\n",
       "  u'STATEFP10': u'41',\n",
       "  u'TRACTCE10': u'004200',\n",
       "  u'UACE10': u'71317',\n",
       "  u'UATYP10': u'U',\n",
       "  u'UR10': u'U'},\n",
       " u'type': u'Feature'}"
      ]
     },
     "execution_count": 45,
     "metadata": {},
     "output_type": "execute_result"
    }
   ],
   "source": [
    "block_geo['features'][0]"
   ]
  },
  {
   "cell_type": "markdown",
   "metadata": {},
   "source": [
    "## Remove the leading '1000000US' from the 'Id' field of population_data\n",
    "the CSV file has some extra text preceding its ID that the JSON file does not"
   ]
  },
  {
   "cell_type": "code",
   "execution_count": 46,
   "metadata": {
    "collapsed": true
   },
   "outputs": [],
   "source": [
    "for record in population_data:\n",
    "    record['Id'] = record['Id'].replace(\"1000000US\",\"\")"
   ]
  },
  {
   "cell_type": "code",
   "execution_count": 47,
   "metadata": {
    "collapsed": false
   },
   "outputs": [
    {
     "data": {
      "text/plain": [
       "{u'Id': u'410050201001050', u'Total': u'5'}"
      ]
     },
     "execution_count": 47,
     "metadata": {},
     "output_type": "execute_result"
    }
   ],
   "source": [
    "population_data[0]"
   ]
  },
  {
   "cell_type": "markdown",
   "metadata": {},
   "source": [
    "## Confirm Id is unique\n",
    "### First for population_data"
   ]
  },
  {
   "cell_type": "code",
   "execution_count": 48,
   "metadata": {
    "collapsed": false
   },
   "outputs": [
    {
     "name": "stdout",
     "output_type": "stream",
     "text": [
      "14379\n",
      "14379\n"
     ]
    }
   ],
   "source": [
    "unique_blocks = set()\n",
    "for record in population_data:\n",
    "    unique_blocks.add(record['Id'])\n",
    "print len(unique_blocks)\n",
    "print len(population_data)"
   ]
  },
  {
   "cell_type": "markdown",
   "metadata": {},
   "source": [
    "### Then for geometery"
   ]
  },
  {
   "cell_type": "code",
   "execution_count": 49,
   "metadata": {
    "collapsed": false
   },
   "outputs": [
    {
     "name": "stdout",
     "output_type": "stream",
     "text": [
      "17292\n",
      "17292\n"
     ]
    }
   ],
   "source": [
    "unique_geos = set()\n",
    "for block in block_geo['features']:\n",
    "    unique_geos.add(block['properties']['GEOID10'])\n",
    "print len(unique_geos)\n",
    "print len(block_geo['features'])"
   ]
  },
  {
   "cell_type": "markdown",
   "metadata": {},
   "source": [
    "## Add population data to geometery"
   ]
  },
  {
   "cell_type": "code",
   "execution_count": 50,
   "metadata": {
    "collapsed": true
   },
   "outputs": [],
   "source": [
    "for record in population_data:\n",
    "    for block in block_geo['features']:\n",
    "        if block['properties']['GEOID10'] == record['Id']:\n",
    "            block['properties']['HOUSEHOLDS'] = record['Total']"
   ]
  },
  {
   "cell_type": "markdown",
   "metadata": {},
   "source": [
    "## If block does not have population data, remove it"
   ]
  },
  {
   "cell_type": "code",
   "execution_count": 51,
   "metadata": {
    "collapsed": true
   },
   "outputs": [],
   "source": [
    "data_rich_geo = {\"features\":[]}\n",
    "\n",
    "for block in block_geo['features']:\n",
    "    if 'HOUSEHOLDS' in block['properties']:\n",
    "        data_rich_geo['features'].append(block)"
   ]
  },
  {
   "cell_type": "code",
   "execution_count": 52,
   "metadata": {
    "collapsed": false
   },
   "outputs": [
    {
     "data": {
      "text/plain": [
       "14295"
      ]
     },
     "execution_count": 52,
     "metadata": {},
     "output_type": "execute_result"
    }
   ],
   "source": [
    "len(data_rich_geo['features'])"
   ]
  },
  {
   "cell_type": "markdown",
   "metadata": {},
   "source": [
    "## Calculate housing density for each block"
   ]
  },
  {
   "cell_type": "markdown",
   "metadata": {},
   "source": [
    "### First it looks like we need to convert POP_TOTAL to an int"
   ]
  },
  {
   "cell_type": "code",
   "execution_count": 53,
   "metadata": {
    "collapsed": true
   },
   "outputs": [],
   "source": [
    "def parse_maybe_int(i):\n",
    "    if i == '':\n",
    "        return None\n",
    "    else:\n",
    "        return int(i)"
   ]
  },
  {
   "cell_type": "code",
   "execution_count": 54,
   "metadata": {
    "collapsed": true
   },
   "outputs": [],
   "source": [
    "for block in data_rich_geo['features']:\n",
    "    block['properties']['HOUSEHOLDS'] = parse_maybe_int(block['properties']['HOUSEHOLDS'])"
   ]
  },
  {
   "cell_type": "code",
   "execution_count": 55,
   "metadata": {
    "collapsed": true
   },
   "outputs": [],
   "source": [
    "def CalcDensity(households, area):\n",
    "    try:\n",
    "        return (households / (area / 4046.86))\n",
    "    except ZeroDivisionError:\n",
    "        return 0"
   ]
  },
  {
   "cell_type": "code",
   "execution_count": 56,
   "metadata": {
    "collapsed": true
   },
   "outputs": [],
   "source": [
    "for block in data_rich_geo['features']:\n",
    "    block['properties']['HOUSE_DENSITY'] = CalcDensity(block['properties']['HOUSEHOLDS'], block['properties']['ALAND10'])"
   ]
  },
  {
   "cell_type": "code",
   "execution_count": 57,
   "metadata": {
    "collapsed": false
   },
   "outputs": [
    {
     "name": "stdout",
     "output_type": "stream",
     "text": [
      "Mean: 5.15332581406\n",
      "Standard deviation: 9.93452636942\n",
      "Minimum: 0.0\n",
      "Maximum: 248.418766443\n"
     ]
    }
   ],
   "source": [
    "block_densities = {}\n",
    "\n",
    "for block in data_rich_geo['features']:\n",
    "    block_densities[block['properties']['GEOID10']] = block['properties']['HOUSE_DENSITY']\n",
    "    \n",
    "# Calculate the stats on our blocks\n",
    "density_list = block_densities.values()\n",
    "print 'Mean:', np.mean(density_list)\n",
    "print 'Standard deviation:', np.std(density_list)\n",
    "print 'Minimum:', np.min(density_list)\n",
    "print 'Maximum:', np.max(density_list)"
   ]
  },
  {
   "cell_type": "code",
   "execution_count": 58,
   "metadata": {
    "collapsed": false
   },
   "outputs": [
    {
     "data": {
      "text/plain": [
       "<Container object of 14295 artists>"
      ]
     },
     "execution_count": 58,
     "metadata": {},
     "output_type": "execute_result"
    },
    {
     "data": {
      "image/png": "[encoded data removed]",
      "text/plain": [
       "<matplotlib.figure.Figure at 0x6117d438>"
      ]
     },
     "metadata": {},
     "output_type": "display_data"
    }
   ],
   "source": [
    "plt.bar(range(len(density_list)), density_list, align='center')"
   ]
  },
  {
   "cell_type": "markdown",
   "metadata": {},
   "source": [
    "## Before we go any further lets get rid of data we don't need"
   ]
  },
  {
   "cell_type": "code",
   "execution_count": 59,
   "metadata": {
    "collapsed": true
   },
   "outputs": [],
   "source": [
    "for block in data_rich_geo['features']:\n",
    "    block['properties'].pop('AWATER10')\n",
    "    block['properties'].pop('BLOCKCE10')\n",
    "    block['properties'].pop('COUNTYFP10')\n",
    "    block['properties'].pop('FUNCSTAT10')\n",
    "    block['properties'].pop('INTPTLAT10')\n",
    "    block['properties'].pop('INTPTLON10')\n",
    "    block['properties'].pop('MTFCC10')\n",
    "    block['properties'].pop('STATEFP10')\n",
    "    block['properties'].pop('TRACTCE10')\n",
    "    block['properties'].pop('UACE10')\n",
    "    block['properties'].pop('UATYP10')\n",
    "    block['properties'].pop('UR10')"
   ]
  },
  {
   "cell_type": "code",
   "execution_count": 60,
   "metadata": {
    "collapsed": false
   },
   "outputs": [
    {
     "data": {
      "text/plain": [
       "{u'geometry': {u'coordinates': [[[-122.761903, 45.59234],\n",
       "    [-122.762954, 45.593426],\n",
       "    [-122.762072, 45.593783],\n",
       "    [-122.761063, 45.59274],\n",
       "    [-122.761903, 45.59234]]],\n",
       "  u'type': u'Polygon'},\n",
       " u'properties': {u'ALAND10': 11330.0,\n",
       "  u'GEOID10': u'410510042002019',\n",
       "  'HOUSEHOLDS': 15,\n",
       "  'HOUSE_DENSITY': 5.357714033539276,\n",
       "  u'NAME10': u'Block 2019'},\n",
       " u'type': u'Feature'}"
      ]
     },
     "execution_count": 60,
     "metadata": {},
     "output_type": "execute_result"
    }
   ],
   "source": [
    "data_rich_geo['features'][0]"
   ]
  },
  {
   "cell_type": "markdown",
   "metadata": {},
   "source": [
    "# At  this point data is taken into Node.js to run geospatial algorithms for calculating transit coverage on each block.\n",
    "\n",
    "The following block shows the Node.js code, using the 'turf' geospatial library, for bringing in the point locations of every transit stop and projecting a buffer radius from it based on its type (MAX stops get an 800m catchment area, other get 400m catchment area). Each buffer is compared to each block and the area of any intersection is returned. This area is added to a field on the block. The final result is that each block contains a field measuring the total area of all transit catchment overlaps."
   ]
  },
  {
   "cell_type": "code",
   "execution_count": 74,
   "metadata": {
    "collapsed": true
   },
   "outputs": [],
   "source": [
    "# var fs = require('fs');\n",
    "# var turf = require('turf');\n",
    "\n",
    "# var polys = JSON.parse(fs.readFileSync('./data_rich_geo.json', 'utf8'));\n",
    "# var points = JSON.parse(fs.readFileSync('./transit_stops.json', 'utf8'));\n",
    "\n",
    "# var blocks = polys.features;\n",
    "# var stops = points.features;\n",
    "\n",
    "# // Initialize TRANSIT_COVERAGE field\n",
    "# for(var i=0;i<blocks.length;i++){\n",
    "#   var block = blocks[i];\n",
    "#   block.properties.TRANSIT_COVERAGE = 0;\n",
    "# }\n",
    "\n",
    "# // Begin intersection calculations\n",
    "# console.log('Starting Intersection Analysis on: '+stops.length+' transit stops');\n",
    "# stops.map(LoadStop);\n",
    "\n",
    "# function LoadStop(stop){\n",
    "#   var bufferSize = stop.properties['type'] == 'MAX' ? 800 : 400;\n",
    "#   var buffer = turf.buffer(stop, bufferSize, 'meters'); // project a radius from the stop based on its type\n",
    "#   blocks.map( (x) => (CalcIntersection(x, buffer)) );\n",
    "#   return stop;\n",
    "# }\n",
    "\n",
    "# function CalcIntersection(block,buffer){\n",
    "#    // skip blocks with known self intersections\n",
    "#   if((block.properties.GEOID10 == \"410510059001035\")||(block.properties.GEOID10 == \"410510091023005\")) {return block;}\n",
    "#   var intersection = turf.intersect(buffer.features[0], block); // returns the intersect poly of the two features\n",
    "#   if (intersection == undefined){return block;} // if the features don't intersect then undefined is returned\n",
    "#   else {\n",
    "#     // sum the area of intersection onto the field\n",
    "#     block.properties.TRANSIT_COVERAGE = Number(block.properties.TRANSIT_COVERAGE) + Number(turf.area(intersection)); \n",
    "#     console.log(turf.area(intersection));\n",
    "#     return block;\n",
    "#   }\n",
    "# }\n",
    "\n",
    "# var out = JSON.stringify(polys);\n",
    "# fs.writeFile('./rescoreTransit.json', out, function(err){\n",
    "#   if(err) throw err;\n",
    "#   console.log('All Done!');\n",
    "# });\n"
   ]
  },
  {
   "cell_type": "markdown",
   "metadata": {},
   "source": [
    "## The resulting file is then read back in"
   ]
  },
  {
   "cell_type": "code",
   "execution_count": 61,
   "metadata": {
    "collapsed": true
   },
   "outputs": [],
   "source": [
    "block_geo = ReadJSON('rescoreTransit.json')"
   ]
  },
  {
   "cell_type": "markdown",
   "metadata": {},
   "source": [
    "## We calc a transit score by dividing the coverage area of the transit by the area of the block"
   ]
  },
  {
   "cell_type": "code",
   "execution_count": 62,
   "metadata": {
    "collapsed": true
   },
   "outputs": [],
   "source": [
    "def CalcScore(block):\n",
    "    if block['properties']['ALAND10'] == 0:\n",
    "        return 0;\n",
    "    else:\n",
    "        return block['properties']['TRANSIT_COVERAGE'] / block['properties']['ALAND10']"
   ]
  },
  {
   "cell_type": "code",
   "execution_count": 63,
   "metadata": {
    "collapsed": true
   },
   "outputs": [],
   "source": [
    "for block in block_geo['features']:\n",
    "    block['properties']['TRANSIT_SCORE_IMP'] = CalcScore(block)"
   ]
  },
  {
   "cell_type": "markdown",
   "metadata": {},
   "source": [
    "### Get the descriptive statistics for this score, so that we can effectively choose a plot range"
   ]
  },
  {
   "cell_type": "code",
   "execution_count": 64,
   "metadata": {
    "collapsed": false
   },
   "outputs": [
    {
     "name": "stdout",
     "output_type": "stream",
     "text": [
      "Mean: 10.3222368406\n",
      "Standard deviation: 15.8508818634\n",
      "Minimum: 0.0\n",
      "Maximum: 377.679769641\n"
     ]
    }
   ],
   "source": [
    "transit_score = {}\n",
    "\n",
    "for block in block_geo['features']:\n",
    "    transit_score[block['properties']['GEOID10']] = block['properties']['TRANSIT_SCORE_IMP']\n",
    "transit_list = transit_score.values()\n",
    "print 'Mean:', np.mean(transit_list)\n",
    "print 'Standard deviation:', np.std(transit_list)\n",
    "print 'Minimum:', np.min(transit_list)\n",
    "print 'Maximum:', np.max(transit_list)"
   ]
  },
  {
   "cell_type": "code",
   "execution_count": 65,
   "metadata": {
    "collapsed": false
   },
   "outputs": [
    {
     "data": {
      "text/plain": [
       "<Container object of 14295 artists>"
      ]
     },
     "execution_count": 65,
     "metadata": {},
     "output_type": "execute_result"
    },
    {
     "data": {
      "image/png": "[encoded data removed]",
      "text/plain": [
       "<matplotlib.figure.Figure at 0x6117d9e8>"
      ]
     },
     "metadata": {},
     "output_type": "display_data"
    }
   ],
   "source": [
    "plt.bar(range(len(transit_list)), transit_list, align='center')"
   ]
  },
  {
   "cell_type": "markdown",
   "metadata": {},
   "source": [
    "### It looks like ~40 might be a good starting point for the top end"
   ]
  },
  {
   "cell_type": "code",
   "execution_count": 66,
   "metadata": {
    "collapsed": true
   },
   "outputs": [],
   "source": [
    "# OPTIONAL - For proper scaling in the map graphic, cap the transit score at 28, \n",
    "# data goes far above this, but is not instructivly useful\n",
    "for block in block_geo['features']:\n",
    "    if block['properties']['TRANSIT_SCORE_IMP'] > 28:\n",
    "        block['properties']['TRANSIT_SCORE_IMP'] == 28"
   ]
  },
  {
   "cell_type": "markdown",
   "metadata": {},
   "source": [
    "## Now we can calculate a under-utilization score"
   ]
  },
  {
   "cell_type": "code",
   "execution_count": 67,
   "metadata": {
    "collapsed": true
   },
   "outputs": [],
   "source": [
    "def under_util_score(transit, density):\n",
    "    if density == 0:\n",
    "        return transit\n",
    "    else:\n",
    "        return transit / density"
   ]
  },
  {
   "cell_type": "code",
   "execution_count": 68,
   "metadata": {
    "collapsed": true
   },
   "outputs": [],
   "source": [
    "for block in block_geo['features']:\n",
    "    block['properties']['NEW_SCORE'] = under_util_score(block['properties']['TRANSIT_SCORE_IMP'],block['properties']['HOUSE_DENSITY'])"
   ]
  },
  {
   "cell_type": "markdown",
   "metadata": {},
   "source": [
    "### Again, get the descriptive stats"
   ]
  },
  {
   "cell_type": "code",
   "execution_count": 69,
   "metadata": {
    "collapsed": false
   },
   "outputs": [
    {
     "name": "stdout",
     "output_type": "stream",
     "text": [
      "Mean: 6.22517159506\n",
      "Standard deviation: 23.6221101632\n",
      "Minimum: 0.0\n",
      "Maximum: 2007.32454282\n"
     ]
    }
   ],
   "source": [
    "util_score = {}\n",
    "\n",
    "for block in block_geo['features']:\n",
    "    util_score[block['properties']['GEOID10']] = block['properties']['NEW_SCORE']\n",
    "util_list = util_score.values()\n",
    "print 'Mean:', np.mean(util_list)\n",
    "print 'Standard deviation:', np.std(util_list)\n",
    "print 'Minimum:', np.min(util_list)\n",
    "print 'Maximum:', np.max(util_list)"
   ]
  },
  {
   "cell_type": "markdown",
   "metadata": {},
   "source": [
    "### It looks like one value might be skewing the mean"
   ]
  },
  {
   "cell_type": "code",
   "execution_count": 70,
   "metadata": {
    "collapsed": false,
    "scrolled": true
   },
   "outputs": [
    {
     "data": {
      "text/plain": [
       "<Container object of 14295 artists>"
      ]
     },
     "execution_count": 70,
     "metadata": {},
     "output_type": "execute_result"
    },
    {
     "data": {
      "image/png": "[encoded data removed]",
      "text/plain": [
       "<matplotlib.figure.Figure at 0x55d15c88>"
      ]
     },
     "metadata": {},
     "output_type": "display_data"
    }
   ],
   "source": [
    "plt.bar(range(len(util_list)), util_list, align='center')"
   ]
  },
  {
   "cell_type": "markdown",
   "metadata": {},
   "source": [
    "# The data is now exported and is ready to go for loading into mapbox"
   ]
  },
  {
   "cell_type": "code",
   "execution_count": 75,
   "metadata": {
    "collapsed": true
   },
   "outputs": [],
   "source": [
    "with open('scored_data.json', 'w') as outfile:\n",
    "    json.dump(block_geo, outfile)"
   ]
  },
  {
   "cell_type": "code",
   "execution_count": null,
   "metadata": {
    "collapsed": true
   },
   "outputs": [],
   "source": []
  }
 ],
 "metadata": {
  "kernelspec": {
   "display_name": "Python 2",
   "language": "python",
   "name": "python2"
  },
  "language_info": {
   "codemirror_mode": {
    "name": "ipython",
    "version": 2
   },
   "file_extension": ".py",
   "mimetype": "text/x-python",
   "name": "python",
   "nbconvert_exporter": "python",
   "pygments_lexer": "ipython2",
   "version": "2.7.11"
  }
 },
 "nbformat": 4,
 "nbformat_minor": 0
}
